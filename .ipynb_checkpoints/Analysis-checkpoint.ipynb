{
 "cells": [
  {
   "cell_type": "code",
   "execution_count": 2,
   "id": "b59323cb",
   "metadata": {},
   "outputs": [],
   "source": [
    "import sys\n",
    "import inspect\n",
    "import os\n",
    "import numpy as np\n",
    "import pandas as pd\n",
    "import math\n",
    "import bisect\n",
    "import matplotlib as plt\n",
    "import seaborn as sb"
   ]
  },
  {
   "cell_type": "code",
   "execution_count": null,
   "id": "4d91b7bd",
   "metadata": {},
   "outputs": [],
   "source": [
    "# Load data\n",
    "# To know how many datasets we have (assuming that if usr_data.csv is present so are usr_1_questionnaire, usr_2_questionnaire, usr_beginning and usr_ending)\n",
    "n_users = len([name for name in os.listdir('.') if os.path.isfile(name) and 'ending' in name])\n",
    "# quest_1 = [pd.read_csv(\"data/\" + str(usr) + \"_1_questionnaire.csv\") for usr in range(n_users)]\n",
    "# quest_2 = [pd.read_csv(\"data/\" + str(usr) + \"_2_questionnaire.csv\") for usr in range(n_users)]\n",
    "# data = [[pd.read_csv(\"data/\" + str(usr) + \"_b\" + str(block) + \"_data.csv\") for block in range 14] for usr in range(n_users)]\n",
    "beginning = [pd.read_csv(\"data/\" + str(usr) + \"_beginning.csv\") for usr in range(n_users)]\n",
    "# ending = [pd.read_csv(\"data/\" + str(usr) + \"_ending.csv\") for usr in range(n_users)]"
   ]
  }
 ],
 "metadata": {
  "kernelspec": {
   "display_name": "Python 3 (ipykernel)",
   "language": "python",
   "name": "python3"
  },
  "language_info": {
   "codemirror_mode": {
    "name": "ipython",
    "version": 3
   },
   "file_extension": ".py",
   "mimetype": "text/x-python",
   "name": "python",
   "nbconvert_exporter": "python",
   "pygments_lexer": "ipython3",
   "version": "3.9.16"
  }
 },
 "nbformat": 4,
 "nbformat_minor": 5
}
