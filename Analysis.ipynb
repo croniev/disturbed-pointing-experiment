{
 "cells": [
  {
   "cell_type": "code",
   "execution_count": 1,
   "id": "f7d7006d",
   "metadata": {},
   "outputs": [],
   "source": [
    "import sys\n",
    "import inspect\n",
    "import os\n",
    "import numpy as np\n",
    "import pandas as pd\n",
    "import math\n",
    "import bisect\n",
    "import matplotlib as plt\n",
    "import seaborn as sb\n",
    "import ast"
   ]
  },
  {
   "cell_type": "code",
   "execution_count": 17,
   "id": "f3e031f3",
   "metadata": {},
   "outputs": [
    {
     "data": {
      "text/plain": [
       "0.001039"
      ]
     },
     "execution_count": 17,
     "metadata": {},
     "output_type": "execute_result"
    }
   ],
   "source": [
    "a = np.load(\"data/0/train1/b-2_t0_bm.npy\", allow_pickle=True)\n",
    "a[1][0]"
   ]
  },
  {
   "cell_type": "code",
   "execution_count": 28,
   "id": "a289b82f",
   "metadata": {},
   "outputs": [],
   "source": [
    "# Load data\n",
    "# To know how many datasets we have (assuming that if usr_ending.csv is present so are usr_1_questionnaire, usr_2_questionnaire, usr_beginning and usr_bxx_data)\n",
    "n_users = len([name for name in os.listdir('./data/') if os.path.isfile(\"data/\" + str(name)) and 'ending' in name])\n",
    "# quest_1 = [pd.read_csv(\"data/\" + str(usr) + \"_1_questionnaire.csv\") for usr in range(n_users)]\n",
    "# quest_2 = [pd.read_csv(\"data/\" + str(usr) + \"_2_questionnaire.csv\") for usr in range(n_users)]\n",
    "# data = [[pd.read_csv(\"data/\" + str(usr) + \"_b\" + str(block) + \"_data.csv\") for block in range(14)] for usr in range(n_users)]\n",
    "# beginning = [pd.read_csv(\"data/\" + str(usr) + \"_beginning.csv\") for usr in range(n_users)]\n",
    "test_users = [\"loes\"]\n",
    "beginning = [pd.read_csv(\"data/\" + str(usr) + \"_beginning.csv\") for usr in test_users]\n",
    "data = [[pd.read_csv(\"data/\" + str(usr) + \"_data_9_187.csv\")] for usr in test_users]\n",
    "# ending = [pd.read_csv(\"data/\" + str(usr) + \"_ending.csv\") for usr in range(n_users)]"
   ]
  },
  {
   "cell_type": "code",
   "execution_count": 35,
   "id": "a1b226b9",
   "metadata": {},
   "outputs": [
    {
     "data": {
      "text/plain": [
       "trial_nr                        int64\n",
       "training                         bool\n",
       "block_nr                        int64\n",
       "block_size                      int64\n",
       "n_proprioceptive_reporting      int64\n",
       "burst_time                     object\n",
       "burst_dur                     float64\n",
       "burst_force                    object\n",
       "burst_t_f_ds                   object\n",
       "disturb_prob                  float64\n",
       "question_prob                 float64\n",
       "show_score_every_n_trials       int64\n",
       "time_limit                    float64\n",
       "touch_radius                    int64\n",
       "p_x                           float64\n",
       "p_y                           float64\n",
       "orientation_point              object\n",
       "beginning_point                object\n",
       "target_pos                     object\n",
       "top_pos                        object\n",
       "time_score_dist_crit            int64\n",
       "time_score_time_crit            int64\n",
       "refresh_rate                  float64\n",
       "address                        object\n",
       "debug                            bool\n",
       "distortion                     object\n",
       "no_propriocept                   bool\n",
       "lefthanded                       bool\n",
       "trial_burst_time              float64\n",
       "trial_burst_force               int64\n",
       "back_movement                  object\n",
       "back_timestamps                object\n",
       "starting_movement              object\n",
       "starting_timestamps            object\n",
       "forward_movement               object\n",
       "virtual_poss                   object\n",
       "forward_timestamps             object\n",
       "score                         float64\n",
       "time_score                      int64\n",
       "err                           float64\n",
       "timing                         object\n",
       "pr_mouse_beginn                object\n",
       "pr_mouse_pos                   object\n",
       "pr_target                      object\n",
       "pr_distance                   float64\n",
       "pr_hit                           bool\n",
       "pr_movement                    object\n",
       "pr_time                       float64\n",
       "pr_timestamps                  object\n",
       "eeg_pr                         object\n",
       "eeg_pr_timestamps              object\n",
       "eeg_back                       object\n",
       "eeg_start                      object\n",
       "eeg_forward                    object\n",
       "eeg_back_timestamps            object\n",
       "eeg_start_timestamps           object\n",
       "eeg_forward_timestamps         object\n",
       "question_asked                   bool\n",
       "subj_answer                      bool\n",
       "answer_time                   float64\n",
       "dtype: object"
      ]
     },
     "metadata": {},
     "output_type": "display_data"
    }
   ],
   "source": [
    "display(data[0][0].dtypes)"
   ]
  },
  {
   "cell_type": "code",
   "execution_count": 36,
   "id": "5ccfaacf",
   "metadata": {},
   "outputs": [
    {
     "data": {
      "text/plain": [
       "-15.0"
      ]
     },
     "execution_count": 36,
     "metadata": {},
     "output_type": "execute_result"
    }
   ],
   "source": [
    "ast.literal_eval(beginning[0][\"pr_mouse_beginn\"][0])[0]"
   ]
  },
  {
   "cell_type": "code",
   "execution_count": null,
   "id": "3383c8fc",
   "metadata": {},
   "outputs": [],
   "source": []
  }
 ],
 "metadata": {
  "kernelspec": {
   "display_name": "Python 3 (ipykernel)",
   "language": "python",
   "name": "python3"
  },
  "language_info": {
   "codemirror_mode": {
    "name": "ipython",
    "version": 3
   },
   "file_extension": ".py",
   "mimetype": "text/x-python",
   "name": "python",
   "nbconvert_exporter": "python",
   "pygments_lexer": "ipython3",
   "version": "3.9.16"
  }
 },
 "nbformat": 4,
 "nbformat_minor": 5
}
